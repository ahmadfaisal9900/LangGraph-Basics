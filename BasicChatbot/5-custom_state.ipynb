{
 "cells": [
  {
   "cell_type": "markdown",
   "id": "7e26c2d8",
   "metadata": {},
   "source": [
    "### Let's try to make a chatbot that researches a person's birthday and forwards it to a human in the loop"
   ]
  },
  {
   "cell_type": "code",
   "execution_count": 1,
   "id": "bf6e05ff",
   "metadata": {},
   "outputs": [],
   "source": [
    "from typing import Annotated\n",
    "\n",
    "from typing_extensions import TypedDict\n",
    "\n",
    "from langgraph.graph.message import add_messages\n",
    "\n",
    "\n",
    "class State(TypedDict):\n",
    "    messages: Annotated[list, add_messages]\n",
    "    name: str\n",
    "    birthday: str"
   ]
  },
  {
   "cell_type": "code",
   "execution_count": 9,
   "id": "9c11b727",
   "metadata": {},
   "outputs": [
    {
     "name": "stderr",
     "output_type": "stream",
     "text": [
      "E0000 00:00:1760350173.161961   31153 alts_credentials.cc:93] ALTS creds ignored. Not running on GCP and untrusted ALTS is not enabled.\n"
     ]
    }
   ],
   "source": [
    "from typing import Annotated\n",
    "\n",
    "from langchain.chat_models import init_chat_model\n",
    "from langchain_tavily import TavilySearch\n",
    "from langchain_core.messages import BaseMessage\n",
    "from typing_extensions import TypedDict\n",
    "\n",
    "from langgraph.checkpoint.memory import InMemorySaver\n",
    "from langgraph.graph import StateGraph\n",
    "from langgraph.graph.message import add_messages\n",
    "from langgraph.prebuilt import ToolNode, tools_condition\n",
    "from dotenv import load_dotenv\n",
    "import os\n",
    "from langchain.chat_models import init_chat_model\n",
    "\n",
    "\n",
    "load_dotenv()\n",
    "\n",
    "google_api_key = os.getenv(\"GOOGLE_API_KEY\")\n",
    "tavily_api_key = os.getenv(\"TAVILY_API_KEY\")\n",
    "\n",
    "os.environ[\"GOOGLE_API_KEY\"] = google_api_key\n",
    "os.environ[\"TAVILY_API_KEY\"] = tavily_api_key \n",
    "\n",
    "llm = init_chat_model(\"google_genai:gemini-2.0-flash\")"
   ]
  },
  {
   "cell_type": "code",
   "execution_count": 10,
   "id": "ae7cc707",
   "metadata": {},
   "outputs": [],
   "source": [
    "from langchain_core.messages import ToolMessage\n",
    "from langchain_core.tools import InjectedToolCallId, tool\n",
    "\n",
    "from langgraph.types import Command, interrupt\n",
    "\n",
    "@tool\n",
    "# Note that because we are generating a ToolMessage for a state update, we\n",
    "# generally require the ID of the corresponding tool call. We can use\n",
    "# LangChain's InjectedToolCallId to signal that this argument should not\n",
    "# be revealed to the model in the tool's schema.\n",
    "def human_assistance(\n",
    "    name: str, birthday: str, tool_call_id: Annotated[str, InjectedToolCallId]\n",
    ") -> str:\n",
    "    \"\"\"Request assistance from a human.\"\"\"\n",
    "    human_response = interrupt(\n",
    "        {\n",
    "            \"question\": \"Is this correct?\",\n",
    "            \"name\": name,\n",
    "            \"birthday\": birthday,\n",
    "        },\n",
    "    )\n",
    "    # If the information is correct, update the state as-is.\n",
    "    if human_response.get(\"correct\", \"\").lower().startswith(\"y\"):\n",
    "        verified_name = name\n",
    "        verified_birthday = birthday\n",
    "        response = \"Correct\"\n",
    "    # Otherwise, receive information from the human reviewer.\n",
    "    else:\n",
    "        verified_name = human_response.get(\"name\", name)\n",
    "        verified_birthday = human_response.get(\"birthday\", birthday)\n",
    "        response = f\"Made a correction: {human_response}\"\n",
    "\n",
    "    # This time we explicitly update the state with a ToolMessage inside\n",
    "    # the tool.\n",
    "    state_update = {\n",
    "        \"name\": verified_name,\n",
    "        \"birthday\": verified_birthday,\n",
    "        \"messages\": [ToolMessage(response, tool_call_id=tool_call_id)],\n",
    "    }\n",
    "    # We return a Command object in the tool to update our state.\n",
    "    return Command(update=state_update)"
   ]
  },
  {
   "cell_type": "code",
   "execution_count": 11,
   "id": "a356c1d0",
   "metadata": {},
   "outputs": [],
   "source": [
    "from typing import Annotated\n",
    "\n",
    "from langchain_tavily import TavilySearch\n",
    "from langchain_core.tools import tool\n",
    "from typing_extensions import TypedDict\n",
    "\n",
    "from langgraph.checkpoint.memory import InMemorySaver\n",
    "from langgraph.graph import StateGraph, START, END\n",
    "from langgraph.graph.message import add_messages\n",
    "from langgraph.prebuilt import ToolNode, tools_condition\n",
    "\n",
    "from langgraph.types import Command, interrupt\n",
    "\n",
    "class State(TypedDict):\n",
    "    messages: Annotated[list, add_messages]\n",
    "\n",
    "graph_builder = StateGraph(State)\n",
    "\n",
    "tool = TavilySearch(max_results=2)\n",
    "tools = [tool, human_assistance]\n",
    "llm_with_tools = llm.bind_tools(tools)\n",
    "\n",
    "def chatbot(state: State):\n",
    "    message = llm_with_tools.invoke(state[\"messages\"])\n",
    "    # Because we will be interrupting during tool execution,\n",
    "    # we disable parallel tool calling to avoid repeating any\n",
    "    # tool invocations when we resume.\n",
    "    assert len(message.tool_calls) <= 1\n",
    "    return {\"messages\": [message]}\n",
    "\n",
    "graph_builder.add_node(\"chatbot\", chatbot)\n",
    "\n",
    "tool_node = ToolNode(tools=tools)\n",
    "graph_builder.add_node(\"tools\", tool_node)\n",
    "\n",
    "graph_builder.add_conditional_edges(\n",
    "    \"chatbot\",\n",
    "    tools_condition,\n",
    ")\n",
    "graph_builder.add_edge(\"tools\", \"chatbot\")\n",
    "graph_builder.add_edge(START, \"chatbot\")\n",
    "\n",
    "memory = InMemorySaver()\n",
    "\n",
    "graph = graph_builder.compile(checkpointer=memory)"
   ]
  },
  {
   "cell_type": "code",
   "execution_count": 12,
   "id": "6ac42519",
   "metadata": {},
   "outputs": [
    {
     "name": "stdout",
     "output_type": "stream",
     "text": [
      "        +-----------+         \n",
      "        | __start__ |         \n",
      "        +-----------+         \n",
      "               *              \n",
      "               *              \n",
      "               *              \n",
      "          +---------+         \n",
      "          | chatbot |         \n",
      "          +---------+         \n",
      "          .         .         \n",
      "        ..           ..       \n",
      "       .               .      \n",
      "+---------+         +-------+ \n",
      "| __end__ |         | tools | \n",
      "+---------+         +-------+ \n"
     ]
    }
   ],
   "source": [
    "graph.get_graph().print_ascii()"
   ]
  },
  {
   "cell_type": "code",
   "execution_count": 13,
   "id": "1f7300c8",
   "metadata": {},
   "outputs": [
    {
     "name": "stdout",
     "output_type": "stream",
     "text": [
      "================================\u001b[1m Human Message \u001b[0m=================================\n",
      "\n",
      "Can you look up when LangGraph was released? When you have the answer, use the human_assistance tool for review.\n",
      "==================================\u001b[1m Ai Message \u001b[0m==================================\n",
      "Tool Calls:\n",
      "  tavily_search (0853e1f5-d461-44df-86d9-b84829353d13)\n",
      " Call ID: 0853e1f5-d461-44df-86d9-b84829353d13\n",
      "  Args:\n",
      "    query: LangGraph release date\n",
      "=================================\u001b[1m Tool Message \u001b[0m=================================\n",
      "Name: tavily_search\n",
      "\n",
      "{\"query\": \"LangGraph release date\", \"follow_up_questions\": null, \"answer\": null, \"images\": [], \"results\": [{\"url\": \"https://github.com/langchain-ai/langgraph-studio/releases\", \"title\": \"Releases · langchain-ai/langgraph-studio - GitHub\", \"content\": \"*   [Code](https://github.com/langchain-ai/langgraph-studio) *   [Issues 47](https://github.com/langchain-ai/langgraph-studio/issues) *   [Actions](https://github.com/langchain-ai/langgraph-studio/actions) [There was an error while loading.](https://github.com/langchain-ai/langgraph-studio/security)[Please reload this page](https://github.com/langchain-ai/langgraph-studio/releases). *   [Code](https://github.com/langchain-ai/langgraph-studio) *   [Issues](https://github.com/langchain-ai/langgraph-studio/issues) *   [Actions](https://github.com/langchain-ai/langgraph-studio/actions) *   [Security](https://github.com/langchain-ai/langgraph-studio/security) [`5874680`](https://github.com/langchain-ai/langgraph-studio/commit/5874680cdf4319d036c1021f18c119f069d3f115) [View all tags](https://github.com/langchain-ai/langgraph-studio/tags) [Latest](https://github.com/langchain-ai/langgraph-studio/releases/latest) *   [Source code(zip)](https://github.com/langchain-ai/langgraph-studio/archive/refs/tags/v0.0.37.zip) 2025-01-02T13:24:41Z  *   [Source code(tar.gz)](https://github.com/langchain-ai/langgraph-studio/archive/refs/tags/v0.0.37.tar.gz) 2025-01-02T13:24:41Z  [`5874680`](https://github.com/langchain-ai/langgraph-studio/commit/5874680cdf4319d036c1021f18c119f069d3f115) [View all tags](https://github.com/langchain-ai/langgraph-studio/tags) [0.0.36](https://github.com/langchain-ai/langgraph-studio/releases/tag/v0.0.36) *   [Source code(zip)](https://github.com/langchain-ai/langgraph-studio/archive/refs/tags/v0.0.36.zip) 2025-01-02T13:24:41Z  *   [Source code(tar.gz)](https://github.com/langchain-ai/langgraph-studio/archive/refs/tags/v0.0.36.tar.gz) 2025-01-02T13:24:41Z  [`5874680`](https://github.com/langchain-ai/langgraph-studio/commit/5874680cdf4319d036c1021f18c119f069d3f115) [View all tags](https://github.com/langchain-ai/langgraph-studio/tags) [0.0.35](https://github.com/langchain-ai/langgraph-studio/releases/tag/v0.0.35) *   [Source code(zip)](https://github.com/langchain-ai/langgraph-studio/archive/refs/tags/v0.0.35.zip) 2025-01-02T13:24:41Z  *   [Source code(tar.gz)](https://github.com/langchain-ai/langgraph-studio/archive/refs/tags/v0.0.35.tar.gz) 2025-01-02T13:24:41Z  [View all tags](https://github.com/langchain-ai/langgraph-studio/tags) [0.0.34](https://github.com/langchain-ai/langgraph-studio/releases/tag/v0.0.34) *   [Source code(zip)](https://github.com/langchain-ai/langgraph-studio/archive/refs/tags/v0.0.34.zip) 2024-12-18T22:14:18Z  [View all tags](https://github.com/langchain-ai/langgraph-studio/tags) [0.0.33](https://github.com/langchain-ai/langgraph-studio/releases/tag/v0.0.33) *   [Source code(zip)](https://github.com/langchain-ai/langgraph-studio/archive/refs/tags/v0.0.33.zip) 2024-12-04T23:51:34Z  [View all tags](https://github.com/langchain-ai/langgraph-studio/tags) [0.0.32](https://github.com/langchain-ai/langgraph-studio/releases/tag/v0.0.32) *   [Source code(zip)](https://github.com/langchain-ai/langgraph-studio/archive/refs/tags/v0.0.32.zip) 2024-12-04T23:51:34Z  [View all tags](https://github.com/langchain-ai/langgraph-studio/tags) [0.0.31](https://github.com/langchain-ai/langgraph-studio/releases/tag/v0.0.31) *   [Source code(zip)](https://github.com/langchain-ai/langgraph-studio/archive/refs/tags/v0.0.31.zip) 2024-11-06T02:20:16Z  [View all tags](https://github.com/langchain-ai/langgraph-studio/tags) [0.0.30](https://github.com/langchain-ai/langgraph-studio/releases/tag/v0.0.30) *   [Source code(zip)](https://github.com/langchain-ai/langgraph-studio/archive/refs/tags/v0.0.30.zip) 2024-09-19T13:46:48Z  [View all tags](https://github.com/langchain-ai/langgraph-studio/tags) [0.0.29](https://github.com/langchain-ai/langgraph-studio/releases/tag/v0.0.29) *   [Source code(zip)](https://github.com/langchain-ai/langgraph-studio/archive/refs/tags/v0.0.29.zip) 2024-09-19T13:46:48Z  [View all tags](https://github.com/langchain-ai/langgraph-studio/tags) [0.0.28](https://github.com/langchain-ai/langgraph-studio/releases/tag/v0.0.28) *   [Source code(zip)](https://github.com/langchain-ai/langgraph-studio/archive/refs/tags/v0.0.28.zip) 2024-09-19T13:46:48Z  Previous[Next](https://github.com/langchain-ai/langgraph-studio/releases?page=2)\", \"score\": 0.7382357, \"raw_content\": null}, {\"url\": \"https://blog.langchain.com/langgraph-studio-the-first-agent-ide/\", \"title\": \"LangGraph Studio: The first agent IDE - LangChain Blog\", \"content\": \"[Skip to content](https://blog.langchain.com/langgraph-studio-the-first-agent-ide/#main) [Sign in](https://blog.langchain.com/langgraph-studio-the-first-agent-ide/#/portal/signin)[Subscribe](https://blog.langchain.com/langgraph-studio-the-first-agent-ide/#/portal/signup) ![Image 2: LangGraph Studio: The first agent IDE](https://blog.langchain.com/content/images/size/w760/format/webp/2024/08/Screenshot-2024-07-31-at-8.00.36-PM-1.png) LangGraph Studio offers a new way to develop LLM applications, providing a specialized agent IDE for visualizing, interacting with, and debugging complex agentic applications. In [January 2023](https://blog.langchain.com/langgraph/), we launched LangGraph, a highly controllable, low-level orchestration framework for building agentic applications. Since then, we've seen teams build more complex agentic applications for production; in turn, we've heavily invested in LangGraph, leading to [a stable 0.1 release](https://blog.langchain.com/langgraph-cloud/) this past June. You can download a version [here](https://github.com/langchain-ai/langgraph-studio?ref=blog.langchain.com). **For more on LangGraph Studio, check out our**[**documentation**](https://github.com/langchain-ai/langgraph-studio?ref=blog.langchain.com).**You can also watch a**[**video walkthrough on YouTube**](https://www.youtube.com/watch?v=pLPJoFvq4_M&ref=blog.langchain.com)**if that's more your style. You can**[**sign up for LangSmith**](https://smith.langchain.com/?ref=blog.langchain.com&ajs_aid=b2cf3c67-e224-4188-85b6-d2a73460efd2)**today to try out LangGraph Studio for free.** *   [Sign up](https://blog.langchain.com/langgraph-studio-the-first-agent-ide/#/portal/)\", \"score\": 0.7208996, \"raw_content\": null}], \"response_time\": 0.78, \"request_id\": \"2754d5d4-df0f-48ba-add8-5f8acb2f1e34\"}\n",
      "==================================\u001b[1m Ai Message \u001b[0m==================================\n",
      "\n",
      "Based on the search results, LangGraph was launched in January 2023, and LangGraph Studio, which is related, had a stable 0.1 release in June. The latest releases for LangGraph Studio on Github are showing dates in 2024 and 2025, but those appear to be related to the studio and not the initial LangGraph release.\n",
      "Tool Calls:\n",
      "  human_assistance (75472dce-0451-422e-8772-c45e97560cf2)\n",
      " Call ID: 75472dce-0451-422e-8772-c45e97560cf2\n",
      "  Args:\n",
      "    name: LangGraph Release Date\n",
      "    birthday: January 2023\n"
     ]
    }
   ],
   "source": [
    "user_input = (\n",
    "    \"Can you look up when LangGraph was released? \"\n",
    "    \"When you have the answer, use the human_assistance tool for review.\"\n",
    ")\n",
    "config = {\"configurable\": {\"thread_id\": \"1\"}}\n",
    "\n",
    "events = graph.stream(\n",
    "    {\"messages\": [{\"role\": \"user\", \"content\": user_input}]},\n",
    "    config,\n",
    "    stream_mode=\"values\",\n",
    ")\n",
    "for event in events:\n",
    "    if \"messages\" in event:\n",
    "        event[\"messages\"][-1].pretty_print()"
   ]
  },
  {
   "cell_type": "code",
   "execution_count": 14,
   "id": "6abeaf46",
   "metadata": {},
   "outputs": [
    {
     "name": "stdout",
     "output_type": "stream",
     "text": [
      "==================================\u001b[1m Ai Message \u001b[0m==================================\n",
      "\n",
      "Based on the search results, LangGraph was launched in January 2023, and LangGraph Studio, which is related, had a stable 0.1 release in June. The latest releases for LangGraph Studio on Github are showing dates in 2024 and 2025, but those appear to be related to the studio and not the initial LangGraph release.\n",
      "Tool Calls:\n",
      "  human_assistance (75472dce-0451-422e-8772-c45e97560cf2)\n",
      " Call ID: 75472dce-0451-422e-8772-c45e97560cf2\n",
      "  Args:\n",
      "    name: LangGraph Release Date\n",
      "    birthday: January 2023\n",
      "=================================\u001b[1m Tool Message \u001b[0m=================================\n",
      "Name: human_assistance\n",
      "\n",
      "Made a correction: {'name': 'LangGraph', 'birthday': 'Jan 17, 2024'}\n",
      "==================================\u001b[1m Ai Message \u001b[0m==================================\n",
      "\n",
      "LangGraph was released on January 17, 2024.\n"
     ]
    }
   ],
   "source": [
    "human_command = Command(\n",
    "    resume={\n",
    "        \"name\": \"LangGraph\",\n",
    "        \"birthday\": \"Jan 17, 2024\",\n",
    "    },\n",
    ")\n",
    "\n",
    "events = graph.stream(human_command, config, stream_mode=\"values\")\n",
    "for event in events:\n",
    "    if \"messages\" in event:\n",
    "        event[\"messages\"][-1].pretty_print()"
   ]
  },
  {
   "cell_type": "code",
   "execution_count": 15,
   "id": "a7d0c6a9",
   "metadata": {},
   "outputs": [
    {
     "data": {
      "text/plain": [
       "{}"
      ]
     },
     "execution_count": 15,
     "metadata": {},
     "output_type": "execute_result"
    }
   ],
   "source": [
    "snapshot = graph.get_state(config)\n",
    "\n",
    "{k: v for k, v in snapshot.values.items() if k in (\"name\", \"birthday\")}"
   ]
  },
  {
   "cell_type": "code",
   "execution_count": 16,
   "id": "bf2ec7db",
   "metadata": {},
   "outputs": [
    {
     "data": {
      "text/plain": [
       "{'configurable': {'thread_id': '1',\n",
       "  'checkpoint_ns': '',\n",
       "  'checkpoint_id': '1f0a81dd-9a2d-6d39-8006-96c29c144fe2'}}"
      ]
     },
     "execution_count": 16,
     "metadata": {},
     "output_type": "execute_result"
    }
   ],
   "source": [
    "graph.update_state(config, {\"name\": \"LangGraph (library)\"})"
   ]
  },
  {
   "cell_type": "code",
   "execution_count": 17,
   "id": "06be2eec",
   "metadata": {},
   "outputs": [
    {
     "data": {
      "text/plain": [
       "{}"
      ]
     },
     "execution_count": 17,
     "metadata": {},
     "output_type": "execute_result"
    }
   ],
   "source": [
    "snapshot = graph.get_state(config)\n",
    "\n",
    "{k: v for k, v in snapshot.values.items() if k in (\"name\", \"birthday\")}"
   ]
  },
  {
   "cell_type": "code",
   "execution_count": null,
   "id": "09bf7a7d",
   "metadata": {},
   "outputs": [],
   "source": []
  }
 ],
 "metadata": {
  "kernelspec": {
   "display_name": "lang",
   "language": "python",
   "name": "python3"
  },
  "language_info": {
   "codemirror_mode": {
    "name": "ipython",
    "version": 3
   },
   "file_extension": ".py",
   "mimetype": "text/x-python",
   "name": "python",
   "nbconvert_exporter": "python",
   "pygments_lexer": "ipython3",
   "version": "3.12.11"
  }
 },
 "nbformat": 4,
 "nbformat_minor": 5
}
