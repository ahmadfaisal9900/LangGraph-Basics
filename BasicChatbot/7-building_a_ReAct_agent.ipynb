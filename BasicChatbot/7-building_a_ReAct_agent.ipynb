{
 "cells": [
  {
   "cell_type": "code",
   "execution_count": 1,
   "id": "f092604c",
   "metadata": {},
   "outputs": [],
   "source": [
    "from typing import Annotated \n",
    "from typing_extensions import TypedDict\n",
    "\n",
    "from langgraph.graph import StateGraph, START, END\n",
    "from langgraph.graph.message import add_messages # ----> reducer\n",
    "from dotenv import load_dotenv\n",
    "from langgraph.prebuilt import ToolNode, tools_condition\n",
    "import os\n",
    "\n",
    "load_dotenv()\n",
    "\n",
    "google_api_key = os.getenv(\"GOOGLE_API_KEY\")\n",
    "tavily_api_key = os.getenv(\"TAVILY_API_KEY\")\n",
    "os.environ[\"GOOGLE_API_KEY\"] = google_api_key\n",
    "os.environ[\"TAVILY_API_KEY\"] = tavily_api_key \n",
    "from langchain_tavily import TavilySearch\n",
    "\n",
    "tool = TavilySearch(\n",
    "    max_results=2\n",
    "    #topic=\"general\",\n",
    "    # include_answer=False,\n",
    "    # include_raw_content=False,\n",
    "    # include_images=False,\n",
    "    # include_image_descriptions=False,\n",
    "    # search_depth=\"basic\",\n",
    "    # time_range=\"day\",\n",
    "    # include_domains=None,\n",
    "    # exclude_domains=None\n",
    ")"
   ]
  },
  {
   "cell_type": "code",
   "execution_count": 2,
   "id": "e33f63c0",
   "metadata": {},
   "outputs": [
    {
     "name": "stderr",
     "output_type": "stream",
     "text": [
      "WARNING: All log messages before absl::InitializeLog() is called are written to STDERR\n",
      "E0000 00:00:1760356906.321777   42863 alts_credentials.cc:93] ALTS creds ignored. Not running on GCP and untrusted ALTS is not enabled.\n"
     ]
    }
   ],
   "source": [
    "from langchain.chat_models import init_chat_model\n",
    "llm = init_chat_model(\"google_genai:gemini-2.0-flash\")"
   ]
  },
  {
   "cell_type": "code",
   "execution_count": 3,
   "id": "fa25cf87",
   "metadata": {},
   "outputs": [],
   "source": [
    "def multiply(a: int, b: int) -> int:\n",
    "    \"\"\"Multiplies two numbers.\n",
    "    Args:\n",
    "        a (int): The first number.\n",
    "        b (int): The second number.\n",
    "    Returns:\n",
    "        int: The product of the two numbers.\n",
    "    \"\"\"\n",
    "    return a * b"
   ]
  },
  {
   "cell_type": "code",
   "execution_count": 4,
   "id": "e8bfadcc",
   "metadata": {},
   "outputs": [],
   "source": [
    "from typing import Annotated\n",
    "\n",
    "from langchain_tavily import TavilySearch\n",
    "from langchain_core.messages import BaseMessage\n",
    "from typing_extensions import TypedDict\n",
    "\n",
    "from langgraph.graph import StateGraph, START, END\n",
    "from langgraph.graph.message import add_messages\n",
    "from langgraph.prebuilt import ToolNode, tools_condition\n",
    "\n",
    "class State(TypedDict):\n",
    "    messages: Annotated[list, add_messages]\n",
    "\n",
    "graph_builder = StateGraph(State)\n",
    "\n",
    "tool = TavilySearch(max_results=2)\n",
    "tools = [tool, multiply]\n",
    "llm_with_tools = llm.bind_tools(tools)\n",
    "\n",
    "def chatbot(state: State):\n",
    "    return {\"messages\": [llm_with_tools.invoke(state[\"messages\"])]}\n",
    "\n",
    "graph_builder.add_node(\"chatbot\", chatbot)\n",
    "\n",
    "tool_node = ToolNode(tools=tools)\n",
    "graph_builder.add_node(\"tools\", tool_node)\n",
    "\n",
    "graph_builder.add_conditional_edges(\n",
    "    \"chatbot\",\n",
    "    tools_condition,\n",
    ")\n",
    "# Any time a tool is called, we return to the chatbot to decide the next step\n",
    "#graph_builder.add_edge(\"tools\", \"chatbot\")\n",
    "graph_builder.add_edge(START, \"chatbot\")\n",
    "graph_builder.add_edge(\"tools\", END)\n",
    "graph = graph_builder.compile()"
   ]
  },
  {
   "cell_type": "code",
   "execution_count": null,
   "id": "7abeeb22",
   "metadata": {},
   "outputs": [
    {
     "data": {
      "image/png": "[encoded data removed]",
      "text/plain": [
       "<IPython.core.display.Image object>"
      ]
     },
     "metadata": {},
     "output_type": "display_data"
    }
   ],
   "source": [
    "\n",
    "\n",
    "from IPython.display import Image, display\n",
    "\n",
    "try:\n",
    "    display(Image(graph.get_graph().draw_mermaid_png()))\n",
    "except Exception:\n",
    "    # This requires some extra dependencies and is optional\n",
    "    pass"
   ]
  },
  {
   "cell_type": "code",
   "execution_count": 6,
   "id": "c614cbff",
   "metadata": {},
   "outputs": [
    {
     "data": {
      "text/plain": [
       "'{\"query\": \"recent AI news\", \"follow_up_questions\": null, \"answer\": null, \"images\": [], \"results\": [{\"url\": \"https://www.reuters.com/business/openai-declares-huge-focus-enterprise-growth-with-array-partnerships-2025-10-06/\", \"title\": \"OpenAI declares \\'huge focus\\' on enterprise growth with array of partnerships - Reuters\", \"score\": 0.6628188, \"published_date\": \"Mon, 06 Oct 2025 20:59:10 GMT\", \"content\": \"SAN FRANCISCO, Oct 6 (Reuters) - OpenAI touted new partnerships to incorporate its AI products across diverse industries at its developer conference on Monday, aiming to drive the strong momentum it has enjoyed among consumers to its enterprise business. OpenAI and other tech giants such as Alphabet (GOOGL.O), opens new tab and Microsoft (MSFT.O), opens new tab have courted enterprise AI deals to help justify massive spikes in spending, though the returns across the industry have so far failed to match investment, recent surveys showed. *   About Reuters, opens new tab *   Reuters News Agency, opens new tab *   Reuters and AI, opens new tab *   Reuters Leadership, opens new tab *   Reuters Diversity Report, opens new tab\", \"raw_content\": null}, {\"url\": \"https://www.hrdive.com/news/ai-tied-7000-job-cuts-september-challenger/802578/\", \"title\": \"AI tied to 7,000 job cuts in September, Challenger finds - HR Dive\", \"score\": 0.643173, \"published_date\": \"Fri, 10 Oct 2025 15:14:49 GMT\", \"content\": \"Salesforce is among the companies that have directly attributed massive job cuts to AI in recent months. * More than 17,000 job cuts have been directly attributed to artificial intelligence so far this year, with the tech industry leading the way,\\xa0outplacement firm Challenger, Gray & Christmas said in a recent report. Overall, companies across sectors have announced 946,426 job cuts so far this year, the highest level year-to-date since 2020 when 2.1 million were announced, according to the Challenger report. Technological updates, including automation and “possibly” AI implementation, have led to 20,219 job cuts in 2025, Challenger said. “We saw a spike in companies, primarily in tech, announce job cuts due to AI,” a Challenger spokesperson said.\", \"raw_content\": null}], \"response_time\": 0.29, \"request_id\": \"e72b48c8-373c-4a80-8adf-6bef761ebebd\"}'"
      ]
     },
     "execution_count": 6,
     "metadata": {},
     "output_type": "execute_result"
    }
   ],
   "source": [
    "response = graph.invoke({\"messages\": \"What is the recent news about AI?\"})\n",
    "response['messages'][-1].content"
   ]
  },
  {
   "cell_type": "code",
   "execution_count": 7,
   "id": "bc6c178a",
   "metadata": {},
   "outputs": [
    {
     "name": "stdout",
     "output_type": "stream",
     "text": [
      "================================\u001b[1m Human Message \u001b[0m=================================\n",
      "\n",
      "What is the recent news about AI?\n",
      "==================================\u001b[1m Ai Message \u001b[0m==================================\n",
      "Tool Calls:\n",
      "  tavily_search (daa86f5c-28c5-4e67-9a27-cf7f6334bc63)\n",
      " Call ID: daa86f5c-28c5-4e67-9a27-cf7f6334bc63\n",
      "  Args:\n",
      "    topic: news\n",
      "    query: recent AI news\n",
      "=================================\u001b[1m Tool Message \u001b[0m=================================\n",
      "Name: tavily_search\n",
      "\n",
      "{\"query\": \"recent AI news\", \"follow_up_questions\": null, \"answer\": null, \"images\": [], \"results\": [{\"url\": \"https://www.reuters.com/business/openai-declares-huge-focus-enterprise-growth-with-array-partnerships-2025-10-06/\", \"title\": \"OpenAI declares 'huge focus' on enterprise growth with array of partnerships - Reuters\", \"score\": 0.6628188, \"published_date\": \"Mon, 06 Oct 2025 20:59:10 GMT\", \"content\": \"SAN FRANCISCO, Oct 6 (Reuters) - OpenAI touted new partnerships to incorporate its AI products across diverse industries at its developer conference on Monday, aiming to drive the strong momentum it has enjoyed among consumers to its enterprise business. OpenAI and other tech giants such as Alphabet (GOOGL.O), opens new tab and Microsoft (MSFT.O), opens new tab have courted enterprise AI deals to help justify massive spikes in spending, though the returns across the industry have so far failed to match investment, recent surveys showed. *   About Reuters, opens new tab *   Reuters News Agency, opens new tab *   Reuters and AI, opens new tab *   Reuters Leadership, opens new tab *   Reuters Diversity Report, opens new tab\", \"raw_content\": null}, {\"url\": \"https://www.hrdive.com/news/ai-tied-7000-job-cuts-september-challenger/802578/\", \"title\": \"AI tied to 7,000 job cuts in September, Challenger finds - HR Dive\", \"score\": 0.643173, \"published_date\": \"Fri, 10 Oct 2025 15:14:49 GMT\", \"content\": \"Salesforce is among the companies that have directly attributed massive job cuts to AI in recent months. * More than 17,000 job cuts have been directly attributed to artificial intelligence so far this year, with the tech industry leading the way, outplacement firm Challenger, Gray & Christmas said in a recent report. Overall, companies across sectors have announced 946,426 job cuts so far this year, the highest level year-to-date since 2020 when 2.1 million were announced, according to the Challenger report. Technological updates, including automation and “possibly” AI implementation, have led to 20,219 job cuts in 2025, Challenger said. “We saw a spike in companies, primarily in tech, announce job cuts due to AI,” a Challenger spokesperson said.\", \"raw_content\": null}], \"response_time\": 0.29, \"request_id\": \"e72b48c8-373c-4a80-8adf-6bef761ebebd\"}\n"
     ]
    }
   ],
   "source": [
    "for m in response['messages']:\n",
    "    m.pretty_print()"
   ]
  },
  {
   "cell_type": "code",
   "execution_count": 8,
   "id": "9a43ca8c",
   "metadata": {},
   "outputs": [
    {
     "name": "stdout",
     "output_type": "stream",
     "text": [
      "================================\u001b[1m Human Message \u001b[0m=================================\n",
      "\n",
      "What is 2 multiplied by 3?\n",
      "==================================\u001b[1m Ai Message \u001b[0m==================================\n",
      "Tool Calls:\n",
      "  multiply (9c5439a7-6bbc-4a4f-a9ba-3689277fd1a0)\n",
      " Call ID: 9c5439a7-6bbc-4a4f-a9ba-3689277fd1a0\n",
      "  Args:\n",
      "    b: 3\n",
      "    a: 2\n",
      "=================================\u001b[1m Tool Message \u001b[0m=================================\n",
      "Name: multiply\n",
      "\n",
      "6\n"
     ]
    }
   ],
   "source": [
    "response = graph.invoke({\"messages\": \"What is 2 multiplied by 3?\"})\n",
    "for m in response['messages']:\n",
    "    m.pretty_print()"
   ]
  },
  {
   "cell_type": "code",
   "execution_count": 9,
   "id": "0fef701a",
   "metadata": {},
   "outputs": [
    {
     "name": "stdout",
     "output_type": "stream",
     "text": [
      "================================\u001b[1m Human Message \u001b[0m=================================\n",
      "\n",
      "What is the latest news in AI and then multiply 2 by 3?\n",
      "==================================\u001b[1m Ai Message \u001b[0m==================================\n",
      "Tool Calls:\n",
      "  tavily_search (efc92932-b181-4f6b-beb7-7e140bac23d4)\n",
      " Call ID: efc92932-b181-4f6b-beb7-7e140bac23d4\n",
      "  Args:\n",
      "    topic: general\n",
      "    query: latest news in AI\n",
      "  multiply (ae5bffad-162f-4c41-a4f3-fd8a2c95494b)\n",
      " Call ID: ae5bffad-162f-4c41-a4f3-fd8a2c95494b\n",
      "  Args:\n",
      "    b: 3\n",
      "    a: 2\n",
      "=================================\u001b[1m Tool Message \u001b[0m=================================\n",
      "Name: tavily_search\n",
      "\n",
      "{\"query\": \"latest news in AI\", \"follow_up_questions\": null, \"answer\": null, \"images\": [], \"results\": [{\"url\": \"https://www.nbcnews.com/artificial-intelligence\", \"title\": \"Artificial intelligence - NBC News\", \"content\": \"The latest news and top stories on artificial intelligence, including AI chatbots like Microsoft's ChatGPT, Apple's AI Chatbot and Google's Bard.\", \"score\": 0.78866494, \"raw_content\": null}, {\"url\": \"https://www.crescendo.ai/news/latest-ai-news-and-updates\", \"title\": \"The Latest AI News and AI Breakthroughs that Matter Most: 2025\", \"content\": \"Summary: Xiaomi has announced a next-gen AI voice model optimized for in-car and smart home experiences. The model features faster response times, offline\", \"score\": 0.7837407, \"raw_content\": null}], \"response_time\": 1.18, \"request_id\": \"01e9a1d1-10c7-42e3-8cf9-4daee0f5357e\"}\n",
      "=================================\u001b[1m Tool Message \u001b[0m=================================\n",
      "Name: multiply\n",
      "\n",
      "6\n"
     ]
    }
   ],
   "source": [
    "response = graph.invoke({\"messages\": \"What is the latest news in AI and then multiply 2 by 3?\"})\n",
    "for m in response['messages']:\n",
    "    m.pretty_print()"
   ]
  },
  {
   "cell_type": "markdown",
   "id": "f76bb4b8",
   "metadata": {},
   "source": [
    "## Now testing out the ReAct agent"
   ]
  },
  {
   "cell_type": "code",
   "execution_count": 10,
   "id": "f024ecf3",
   "metadata": {},
   "outputs": [
    {
     "data": {
      "image/png": "[encoded data removed]",
      "text/plain": [
       "<IPython.core.display.Image object>"
      ]
     },
     "metadata": {},
     "output_type": "display_data"
    }
   ],
   "source": [
    "\n",
    "from typing import Annotated\n",
    "\n",
    "from langchain_tavily import TavilySearch\n",
    "from langchain_core.messages import BaseMessage\n",
    "from typing_extensions import TypedDict\n",
    "\n",
    "from langgraph.graph import StateGraph, START, END\n",
    "from langgraph.graph.message import add_messages\n",
    "from langgraph.prebuilt import ToolNode, tools_condition\n",
    "\n",
    "class State(TypedDict):\n",
    "    messages: Annotated[list, add_messages]\n",
    "\n",
    "graph_builder = StateGraph(State)\n",
    "\n",
    "tool = TavilySearch(max_results=2)\n",
    "tools = [tool, multiply]\n",
    "llm_with_tools = llm.bind_tools(tools)\n",
    "\n",
    "def chatbot(state: State):\n",
    "    return {\"messages\": [llm_with_tools.invoke(state[\"messages\"])]}\n",
    "\n",
    "graph_builder.add_node(\"chatbot\", chatbot)\n",
    "\n",
    "tool_node = ToolNode(tools=tools)\n",
    "graph_builder.add_node(\"tools\", tool_node)\n",
    "\n",
    "graph_builder.add_conditional_edges(\n",
    "    \"chatbot\",\n",
    "    tools_condition,\n",
    ")\n",
    "# Any time a tool is called, we return to the chatbot to decide the next step\n",
    "#graph_builder.add_edge(\"tools\", \"chatbot\")\n",
    "graph_builder.add_edge(START, \"chatbot\")\n",
    "graph_builder.add_edge(\"tools\", \"chatbot\")\n",
    "graph_builder.add_edge(\"tools\", END)\n",
    "graph = graph_builder.compile()\n",
    "from IPython.display import Image, display\n",
    "\n",
    "try:\n",
    "    display(Image(graph.get_graph().draw_mermaid_png()))\n",
    "except Exception:\n",
    "    # This requires some extra dependencies and is optional\n",
    "    pass"
   ]
  },
  {
   "cell_type": "code",
   "execution_count": 11,
   "id": "83b1f866",
   "metadata": {},
   "outputs": [
    {
     "name": "stdout",
     "output_type": "stream",
     "text": [
      "================================\u001b[1m Human Message \u001b[0m=================================\n",
      "\n",
      "What is the latest news in AI and then multiply 2 by 3?\n",
      "==================================\u001b[1m Ai Message \u001b[0m==================================\n",
      "Tool Calls:\n",
      "  tavily_search (e3acd516-cd75-4089-8bea-2fb0500fa891)\n",
      " Call ID: e3acd516-cd75-4089-8bea-2fb0500fa891\n",
      "  Args:\n",
      "    topic: general\n",
      "    query: latest AI news\n",
      "  multiply (0400ef53-e2f4-4b83-a9ef-696b7effb60c)\n",
      " Call ID: 0400ef53-e2f4-4b83-a9ef-696b7effb60c\n",
      "  Args:\n",
      "    b: 3\n",
      "    a: 2\n",
      "=================================\u001b[1m Tool Message \u001b[0m=================================\n",
      "Name: tavily_search\n",
      "\n",
      "{\"query\": \"latest AI news\", \"follow_up_questions\": null, \"answer\": null, \"images\": [], \"results\": [{\"url\": \"https://www.wsj.com/tech/ai?gaa_at=eafs&gaa_n=ASWzDAh4I1eRMfYP1lJmIDO4XJ7QEbwSJT0ojEH3aDdJSANbWlO6vfBv3hU1&gaa_ts=68ecedfe&gaa_sig=RDlzY-QEsqiZSTdMe59N3H8967wnp5KqttgoeHyXcSGtyI3Jb5KTmQFKNhPiKicDOrLLZ6wmO0HJgAn2NwbMxA%3D%3D\", \"title\": \"Artificial Intelligence - Latest AI News and Analysis - WSJ.com\", \"content\": \"The latest artificial intelligence news coverage focusing on the technology, tools and the companies building AI technology.\", \"score\": 0.78294516, \"raw_content\": null}, {\"url\": \"https://www.crescendo.ai/news/latest-ai-news-and-updates\", \"title\": \"The Latest AI News and AI Breakthroughs that Matter Most: 2025\", \"content\": \"Summary: DeepCogito v2, an open-source AI model, has been released with improved logical reasoning and task planning. Developers say it outperforms many closed\", \"score\": 0.7756902, \"raw_content\": null}], \"response_time\": 0.99, \"request_id\": \"f00955c7-2d02-4fd1-bf62-f1cb613024f1\"}\n",
      "=================================\u001b[1m Tool Message \u001b[0m=================================\n",
      "Name: multiply\n",
      "\n",
      "6\n",
      "==================================\u001b[1m Ai Message \u001b[0m==================================\n",
      "\n",
      "OK. The latest AI news includes the release of DeepCogito v2, an open-source AI model, which developers say has improved logical reasoning and task planning and outperforms many closed source alternatives. Also, the Wall Street Journal has ongoing coverage of AI technology, tools, and the companies building AI.\n",
      "\n",
      "2 multiplied by 3 is 6.\n"
     ]
    }
   ],
   "source": [
    "response = graph.invoke({\"messages\": \"What is the latest news in AI and then multiply 2 by 3?\"})\n",
    "for m in response['messages']:\n",
    "    m.pretty_print()"
   ]
  },
  {
   "cell_type": "code",
   "execution_count": null,
   "id": "4bd25d79",
   "metadata": {},
   "outputs": [],
   "source": []
  }
 ],
 "metadata": {
  "kernelspec": {
   "display_name": "lang",
   "language": "python",
   "name": "python3"
  },
  "language_info": {
   "codemirror_mode": {
    "name": "ipython",
    "version": 3
   },
   "file_extension": ".py",
   "mimetype": "text/x-python",
   "name": "python",
   "nbconvert_exporter": "python",
   "pygments_lexer": "ipython3",
   "version": "3.12.11"
  }
 },
 "nbformat": 4,
 "nbformat_minor": 5
}
