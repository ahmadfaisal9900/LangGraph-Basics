{
 "cells": [
  {
   "cell_type": "markdown",
   "id": "c4dd5a78",
   "metadata": {},
   "source": [
    "### Simple Multi-AI agent"
   ]
  },
  {
   "cell_type": "code",
   "execution_count": 43,
   "id": "0b5df87b",
   "metadata": {},
   "outputs": [
    {
     "name": "stderr",
     "output_type": "stream",
     "text": [
      "E0000 00:00:1760432611.220445   21007 alts_credentials.cc:93] ALTS creds ignored. Not running on GCP and untrusted ALTS is not enabled.\n"
     ]
    },
    {
     "data": {
      "text/plain": [
       "ChatGoogleGenerativeAI(model='models/gemini-2.0-flash', google_api_key=SecretStr('**********'), client=<google.ai.generativelanguage_v1beta.services.generative_service.client.GenerativeServiceClient object at 0x7f31abfe24b0>, default_metadata=(), model_kwargs={})"
      ]
     },
     "execution_count": 43,
     "metadata": {},
     "output_type": "execute_result"
    }
   ],
   "source": [
    "import os\n",
    "from typing import TypedDict, Annotated, List, Literal\n",
    "from langchain_core.messages import BaseMessage, HumanMessage, AIMessage, SystemMessage\n",
    "from langchain.chat_models import init_chat_model\n",
    "from langchain_core.tools import tool\n",
    "from langchain_tavily import TavilySearch\n",
    "from langgraph.graph import StateGraph, END\n",
    "from langgraph.prebuilt import create_react_agent\n",
    "from langgraph.checkpoint.memory import MemorySaver\n",
    "from langgraph.graph import StateGraph, END, MessagesState\n",
    "from langgraph.prebuilt import ToolNode\n",
    "from langgraph.checkpoint.memory import MemorySaver\n",
    "import os\n",
    "from dotenv import load_dotenv\n",
    "\n",
    "load_dotenv()\n",
    "\n",
    "google_api_key = os.getenv(\"GOOGLE_API_KEY\")\n",
    "tavily_api_key = os.getenv(\"TAVILY_API_KEY\")\n",
    "\n",
    "os.environ[\"GOOGLE_API_KEY\"] = google_api_key\n",
    "os.environ[\"TAVILY_API_KEY\"] = tavily_api_key \n",
    "\n",
    "langsmith_api_key = os.getenv(\"LANGSMITH_API_KEY\")\n",
    "os.environ[\"LANGSMITH_API_KEY\"] = langsmith_api_key\n",
    "os.environ[\"LANGSMITH_TRACING\"] = \"true\" \n",
    "llm = init_chat_model(\"google_genai:gemini-2.0-flash\")\n",
    "llm"
   ]
  },
  {
   "cell_type": "code",
   "execution_count": 44,
   "id": "e85656a4",
   "metadata": {},
   "outputs": [],
   "source": [
    "class AgentState(MessagesState):\n",
    "    next_agent:str #which agent should go next "
   ]
  },
  {
   "cell_type": "code",
   "execution_count": 45,
   "id": "9503ed8b",
   "metadata": {},
   "outputs": [],
   "source": [
    "@tool\n",
    "def search_web(query: str)-> str:\n",
    "    \"\"\"Search the web for information\"\"\"\n",
    "    search = TavilySearch(max_results=2)\n",
    "    results = search.invoke(query)\n",
    "    return str(results)\n",
    "\n",
    "@tool \n",
    "def write_summary(content: str) -> str:\n",
    "    \"\"\"Write a concise summary of the content\"\"\"\n",
    "    summary = f\"Summary: {content[:500]}...\"  # Simple placeholder summary\n",
    "    return summary"
   ]
  },
  {
   "cell_type": "code",
   "execution_count": 46,
   "id": "d91dc4b0",
   "metadata": {},
   "outputs": [],
   "source": [
    "def researcher_agent(state: AgentState):\n",
    "    \"\"\"Researcher agent that searches for information\"\"\"\n",
    "    messages = state[\"messages\"]\n",
    "    \n",
    "    # Add system message for context (not wrapped in list)\n",
    "    system_msg = SystemMessage(content=\"You are a research assistant. Use the search_web tool to find information about the user's request.\")\n",
    "    \n",
    "    # Call LLM with tools\n",
    "    researcher_llm = llm.bind_tools([search_web])\n",
    "    response = researcher_llm.invoke([system_msg] + messages)\n",
    "    \n",
    "    return {\n",
    "        \"messages\": [response],\n",
    "        \"next_agent\": \"writer\"\n",
    "    }"
   ]
  },
  {
   "cell_type": "code",
   "execution_count": 47,
   "id": "3d203ea0",
   "metadata": {},
   "outputs": [],
   "source": [
    "def writer_agent(state: AgentState):\n",
    "    \"\"\"Writer agent that creates summaries\"\"\"\n",
    "    messages = state[\"messages\"]\n",
    "    \n",
    "    # Add system message (not wrapped in list)\n",
    "    system_msg = SystemMessage(content=\"You are a technical writer. Review the conversation and create a clear, concise summary of the findings.\")\n",
    "    \n",
    "    # Simple completion without tools\n",
    "    response = llm.invoke([system_msg] + messages)\n",
    "    \n",
    "    return {\n",
    "        \"messages\": [response],\n",
    "        \"next_agent\": \"end\"\n",
    "    }"
   ]
  },
  {
   "cell_type": "code",
   "execution_count": 48,
   "id": "9103e43b",
   "metadata": {},
   "outputs": [],
   "source": [
    "def execute_tools(state: AgentState):\n",
    "    \"\"\"Execute any pending tool calls\"\"\"\n",
    "    messages = state[\"messages\"]\n",
    "    last_message = messages[-1]\n",
    "    \n",
    "    # Check if there are tool calls to execute\n",
    "    if hasattr(last_message, \"tool_calls\") and last_message.tool_calls:\n",
    "        # Create tool node and execute\n",
    "        tool_node = ToolNode([search_web, write_summary])\n",
    "        response = tool_node.invoke(state)\n",
    "        return response\n",
    "    \n",
    "    # No tools to execute\n",
    "    return state\n"
   ]
  },
  {
   "cell_type": "code",
   "execution_count": 53,
   "id": "41899205",
   "metadata": {},
   "outputs": [
    {
     "data": {
      "image/png": "[encoded data removed]",
      "text/plain": [
       "<langgraph.graph.state.CompiledStateGraph object at 0x7f31b871c080>"
      ]
     },
     "execution_count": 53,
     "metadata": {},
     "output_type": "execute_result"
    }
   ],
   "source": [
    "workflow = StateGraph(MessagesState)\n",
    "\n",
    "# Add nodes\n",
    "workflow.add_node(\"researcher\", researcher_agent)\n",
    "workflow.add_node(\"execute_tools\", execute_tools)\n",
    "workflow.add_node(\"writer\", writer_agent)\n",
    "\n",
    "# Set entry point\n",
    "workflow.set_entry_point(\"researcher\")\n",
    "\n",
    "# Define flow (remove duplicate edges)\n",
    "workflow.add_edge(\"researcher\", \"execute_tools\")\n",
    "workflow.add_edge(\"execute_tools\", \"writer\")\n",
    "workflow.add_edge(\"writer\", END)\n",
    "\n",
    "final_workflow = workflow.compile()\n",
    "final_workflow"
   ]
  },
  {
   "cell_type": "code",
   "execution_count": 54,
   "id": "1ecec03e",
   "metadata": {},
   "outputs": [],
   "source": [
    "response = final_workflow.invoke({\n",
    "       \"messages\": [HumanMessage(content=\"Research about the usecase of agentic ai in business\")]\n",
    "   })"
   ]
  },
  {
   "cell_type": "code",
   "execution_count": 55,
   "id": "341c99a6",
   "metadata": {},
   "outputs": [
    {
     "data": {
      "text/plain": [
       "'Agentic AI offers numerous business applications. Key use cases include:\\n\\n*   **Healthcare:** AI agents can proactively analyze data to assist in diagnostics, manage drug processes, and monitor patient vitals in real-time, flagging potential health risks.\\n*   **Retail:** They personalize shopping experiences through product recommendations, trend prediction, inventory management, and powering customer service chatbots. In brick-and-mortar stores, they can scan shelves and manage inventory in real-time, boosting sales and customer satisfaction.\\n*   **Sales:** Automating tasks and streamlining access to customer data.\\n*   **Banking:** Reinventing processes such as creating credit-risk memos.\\n*   **General:** Streamlining access to customer data, automating tasks.\\n\\nTo maximize the impact of agentic AI, businesses should focus on strategic programs, business processes, cross-functional teams, and scalable delivery rather than scattered initiatives and siloed experimentation.'"
      ]
     },
     "execution_count": 55,
     "metadata": {},
     "output_type": "execute_result"
    }
   ],
   "source": [
    "response[\"messages\"][-1].content"
   ]
  },
  {
   "cell_type": "markdown",
   "id": "c920f7d7",
   "metadata": {},
   "source": [
    "### Supervisor Multi Agent AI"
   ]
  },
  {
   "cell_type": "code",
   "execution_count": 58,
   "id": "75a0e2e9",
   "metadata": {},
   "outputs": [],
   "source": [
    "from typing import TypedDict, Annotated, List, Literal, Dict, Any\n",
    "from langchain_core.messages import BaseMessage, HumanMessage, AIMessage, SystemMessage\n",
    "from langgraph.graph import StateGraph, END, MessagesState\n",
    "from langgraph.checkpoint.memory import MemorySaver\n",
    "import random\n",
    "from datetime import datetime"
   ]
  },
  {
   "cell_type": "code",
   "execution_count": 60,
   "id": "1f4e67d9",
   "metadata": {},
   "outputs": [],
   "source": [
    "\n",
    "class SupervisorState(MessagesState):\n",
    "    \"\"\"State for the multi-agent system\"\"\"\n",
    "    next_agent: str = \"\"\n",
    "    research_data: str = \"\"\n",
    "    analysis: str = \"\"\n",
    "    final_report: str = \"\"\n",
    "    task_complete: bool = False\n",
    "    current_task: str = \"\""
   ]
  },
  {
   "cell_type": "code",
   "execution_count": 61,
   "id": "fd364e1c",
   "metadata": {},
   "outputs": [],
   "source": [
    "from langchain_core.prompts import ChatPromptTemplate\n",
    "def create_supervisor_chain():\n",
    "    \"\"\"Creates the supervisor decision chain\"\"\"\n",
    "    \n",
    "    supervisor_prompt = ChatPromptTemplate.from_messages([\n",
    "        (\"system\", \"\"\"You are a supervisor managing a team of agents:\n",
    "        \n",
    "1. Researcher - Gathers information and data\n",
    "2. Analyst - Analyzes data and provides insights  \n",
    "3. Writer - Creates reports and summaries\n",
    "\n",
    "Based on the current state and conversation, decide which agent should work next.\n",
    "If the task is complete, respond with 'DONE'.\n",
    "\n",
    "Current state:\n",
    "- Has research data: {has_research}\n",
    "- Has analysis: {has_analysis}\n",
    "- Has report: {has_report}\n",
    "\n",
    "Respond with ONLY the agent name (researcher/analyst/writer) or 'DONE'.\n",
    "\"\"\"),\n",
    "        (\"human\", \"{task}\")\n",
    "    ])\n",
    "    \n",
    "    return supervisor_prompt | llm\n"
   ]
  },
  {
   "cell_type": "code",
   "execution_count": 62,
   "id": "d2157870",
   "metadata": {},
   "outputs": [],
   "source": [
    "def supervisor_agent(state: SupervisorState) -> Dict:\n",
    "    \"\"\"Supervisor decides next agent using Groq LLM\"\"\"\n",
    "    \n",
    "    messages = state[\"messages\"]\n",
    "    task = messages[-1].content if messages else \"No task\"\n",
    "    \n",
    "    # Check what's been completed\n",
    "    has_research = bool(state.get(\"research_data\", \"\"))\n",
    "    has_analysis = bool(state.get(\"analysis\", \"\"))\n",
    "    has_report = bool(state.get(\"final_report\", \"\"))\n",
    "    \n",
    "    # Get LLM decision\n",
    "    chain = create_supervisor_chain()\n",
    "    decision = chain.invoke({\n",
    "        \"task\": task,\n",
    "        \"has_research\": has_research,\n",
    "        \"has_analysis\": has_analysis,\n",
    "        \"has_report\": has_report\n",
    "    })\n",
    "    \n",
    "    # Parse decision\n",
    "    decision_text = decision.content.strip().lower()\n",
    "    print(decision_text)\n",
    "    \n",
    "    # Determine next agent\n",
    "    if \"done\" in decision_text or has_report:\n",
    "        next_agent = \"end\"\n",
    "        supervisor_msg = \"✅ Supervisor: All tasks complete! Great work team.\"\n",
    "    elif \"researcher\" in decision_text or not has_research:\n",
    "        next_agent = \"researcher\"\n",
    "        supervisor_msg = \"📋 Supervisor: Let's start with research. Assigning to Researcher...\"\n",
    "    elif \"analyst\" in decision_text or (has_research and not has_analysis):\n",
    "        next_agent = \"analyst\"\n",
    "        supervisor_msg = \"📋 Supervisor: Research done. Time for analysis. Assigning to Analyst...\"\n",
    "    elif \"writer\" in decision_text or (has_analysis and not has_report):\n",
    "        next_agent = \"writer\"\n",
    "        supervisor_msg = \"📋 Supervisor: Analysis complete. Let's create the report. Assigning to Writer...\"\n",
    "    else:\n",
    "        next_agent = \"end\"\n",
    "        supervisor_msg = \"✅ Supervisor: Task seems complete.\"\n",
    "    \n",
    "    return {\n",
    "        \"messages\": [AIMessage(content=supervisor_msg)],\n",
    "        \"next_agent\": next_agent,\n",
    "        \"current_task\": task\n",
    "    }"
   ]
  },
  {
   "cell_type": "code",
   "execution_count": 63,
   "id": "82be8645",
   "metadata": {},
   "outputs": [],
   "source": [
    "\n",
    "\n",
    "# ===================================\n",
    "# Agent 1: Researcher \n",
    "# ===================================\n",
    "\n",
    "def researcher_agent(state: SupervisorState) -> Dict:\n",
    "    \"\"\"Researcher uses Gemini to gather information\"\"\"\n",
    "    \n",
    "    task = state.get(\"current_task\", \"research topic\")\n",
    "    \n",
    "    # Create research prompt\n",
    "    research_prompt = f\"\"\"As a research specialist, provide comprehensive information about: {task}\n",
    "\n",
    "    Include:\n",
    "    1. Key facts and background\n",
    "    2. Current trends or developments\n",
    "    3. Important statistics or data points\n",
    "    4. Notable examples or case studies\n",
    "    \n",
    "    Be concise but thorough.\"\"\"\n",
    "    \n",
    "    # Get research from LLM\n",
    "    research_response = llm.invoke([HumanMessage(content=research_prompt)])\n",
    "    research_data = research_response.content\n",
    "    \n",
    "    # Create agent message\n",
    "    agent_message = f\"🔍 Researcher: I've completed the research on '{task}'.\\n\\nKey findings:\\n{research_data[:500]}...\"\n",
    "    \n",
    "    return {\n",
    "        \"messages\": [AIMessage(content=agent_message)],\n",
    "        \"research_data\": research_data,\n",
    "        \"next_agent\": \"supervisor\"\n",
    "    }"
   ]
  },
  {
   "cell_type": "code",
   "execution_count": 64,
   "id": "c6f124aa",
   "metadata": {},
   "outputs": [],
   "source": [
    "# ===================================\n",
    "# Agent 2: Analyst (using Gemini)\n",
    "# ===================================\n",
    "\n",
    "def analyst_agent(state: SupervisorState) -> Dict:\n",
    "    \"\"\"Analyst uses Gemini to analyze the research\"\"\"\n",
    "    \n",
    "    research_data = state.get(\"research_data\", \"\")\n",
    "    task = state.get(\"current_task\", \"\")\n",
    "    \n",
    "    # Create analysis prompt\n",
    "    analysis_prompt = f\"\"\"As a data analyst, analyze this research data and provide insights:\n",
    "\n",
    "Research Data:\n",
    "{research_data}\n",
    "\n",
    "Provide:\n",
    "1. Key insights and patterns\n",
    "2. Strategic implications\n",
    "3. Risks and opportunities\n",
    "4. Recommendations\n",
    "\n",
    "Focus on actionable insights related to: {task}\"\"\"\n",
    "    \n",
    "    # Get analysis from LLM\n",
    "    analysis_response = llm.invoke([HumanMessage(content=analysis_prompt)])\n",
    "    analysis = analysis_response.content\n",
    "    \n",
    "    # Create agent message\n",
    "    agent_message = f\"📊 Analyst: I've completed the analysis.\\n\\nTop insights:\\n{analysis[:400]}...\"\n",
    "    \n",
    "    return {\n",
    "        \"messages\": [AIMessage(content=agent_message)],\n",
    "        \"analysis\": analysis,\n",
    "        \"next_agent\": \"supervisor\"\n",
    "    }\n"
   ]
  },
  {
   "cell_type": "code",
   "execution_count": null,
   "id": "1d2fd21f",
   "metadata": {},
   "outputs": [],
   "source": [
    "# ===================================\n",
    "# Agent 3: Writer (using Gemini)\n",
    "# ===================================\n",
    "\n",
    "def writer_agent(state: SupervisorState) -> Dict:\n",
    "    \"\"\"Writer uses Gemini to create final report\"\"\"\n",
    "    \n",
    "    research_data = state.get(\"research_data\", \"\")\n",
    "    analysis = state.get(\"analysis\", \"\")\n",
    "    task = state.get(\"current_task\", \"\")\n",
    "    \n",
    "    # Create writing prompt\n",
    "    writing_prompt = f\"\"\"As a professional writer, create an executive report based on:\n",
    "\n",
    "Task: {task}\n",
    "\n",
    "Research Findings:\n",
    "{research_data[:1000]}\n",
    "\n",
    "Analysis:\n",
    "{analysis[:1000]}\n",
    "\n",
    "Create a well-structured report with:\n",
    "1. Executive Summary\n",
    "2. Key Findings  \n",
    "3. Analysis & Insights\n",
    "4. Recommendations\n",
    "5. Conclusion\n",
    "\n",
    "Keep it professional and concise.\"\"\"\n",
    "    \n",
    "    # Get report from LLM\n",
    "    report_response = llm.invoke([HumanMessage(content=writing_prompt)])\n",
    "    report = report_response.content\n",
    "    \n",
    "    # Create final formatted report\n",
    "    final_report = f\"\"\"\n",
    "📄 FINAL REPORT\n",
    "{'='*50}\n",
    "Generated: {datetime.now().strftime('%Y-%m-%d %H:%M')}\n",
    "Topic: {task}\n",
    "{'='*50}\n",
    "\n",
    "{report}\n",
    "\n",
    "{'='*50}\n",
    "Report compiled by Multi-Agent AI System powered by Groq\n",
    "\"\"\"\n",
    "    \n",
    "    return {\n",
    "        \"messages\": [AIMessage(content=f\"✍️ Writer: Report complete! See below for the full document.\")],\n",
    "        \"final_report\": final_report,\n",
    "        \"next_agent\": \"supervisor\",\n",
    "        \"task_complete\": True\n",
    "    }"
   ]
  },
  {
   "cell_type": "code",
   "execution_count": 66,
   "id": "07849aa9",
   "metadata": {},
   "outputs": [],
   "source": [
    "# ===================================\n",
    "# Router Function\n",
    "# ===================================\n",
    "\n",
    "def router(state: SupervisorState) -> Literal[\"supervisor\", \"researcher\", \"analyst\", \"writer\", \"__end__\"]:\n",
    "    \"\"\"Routes to next agent based on state\"\"\"\n",
    "    \n",
    "    next_agent = state.get(\"next_agent\", \"supervisor\")\n",
    "    \n",
    "    if next_agent == \"end\" or state.get(\"task_complete\", False):\n",
    "        return END\n",
    "        \n",
    "    if next_agent in [\"supervisor\", \"researcher\", \"analyst\", \"writer\"]:\n",
    "        return next_agent\n",
    "        \n",
    "    return \"supervisor\""
   ]
  },
  {
   "cell_type": "code",
   "execution_count": 67,
   "id": "a28e6509",
   "metadata": {},
   "outputs": [],
   "source": [
    "# Create workflow\n",
    "workflow = StateGraph(SupervisorState)\n",
    "\n",
    "# Add nodes\n",
    "workflow.add_node(\"supervisor\", supervisor_agent)\n",
    "workflow.add_node(\"researcher\", researcher_agent)\n",
    "workflow.add_node(\"analyst\", analyst_agent)\n",
    "workflow.add_node(\"writer\", writer_agent)\n",
    "\n",
    "# Set entry point\n",
    "workflow.set_entry_point(\"supervisor\")\n",
    "\n",
    "# Add routing\n",
    "for node in [\"supervisor\", \"researcher\", \"analyst\", \"writer\"]:\n",
    "    workflow.add_conditional_edges(\n",
    "        node,\n",
    "        router,\n",
    "        {\n",
    "            \"supervisor\": \"supervisor\",\n",
    "            \"researcher\": \"researcher\",\n",
    "            \"analyst\": \"analyst\",\n",
    "            \"writer\": \"writer\",\n",
    "            END: END\n",
    "        }\n",
    "    )\n",
    "\n",
    "graph=workflow.compile()"
   ]
  },
  {
   "cell_type": "code",
   "execution_count": 68,
   "id": "dc06deda",
   "metadata": {},
   "outputs": [
    {
     "data": {
      "image/png": "[encoded data removed]",
      "text/plain": [
       "<langgraph.graph.state.CompiledStateGraph object at 0x7f31d1f93440>"
      ]
     },
     "execution_count": 68,
     "metadata": {},
     "output_type": "execute_result"
    }
   ],
   "source": [
    "graph"
   ]
  },
  {
   "cell_type": "code",
   "execution_count": 71,
   "id": "36dae5bd",
   "metadata": {},
   "outputs": [
    {
     "name": "stdout",
     "output_type": "stream",
     "text": [
      "researcher\n",
      "analyst\n",
      "writer\n"
     ]
    }
   ],
   "source": [
    "response = graph.invoke({\n",
    "    \"messages\": [HumanMessage(content=\"What are the benefits and risks of AI in healthcare?\")]\n",
    "})"
   ]
  },
  {
   "cell_type": "code",
   "execution_count": 72,
   "id": "0b37292a",
   "metadata": {},
   "outputs": [
    {
     "data": {
      "text/plain": [
       "\"\\n📄 FINAL REPORT\\n==================================================\\nGenerated: 2025-10-14 14:33\\nTopic: 📊 Analyst: I've completed the analysis.\\n\\nTop insights:\\nOkay, here's an analysis of the provided research data on AI in Healthcare, focusing on actionable insights, strategic implications, risks, opportunities, and recommendations.\\n\\n**1. Key Insights and Patterns**\\n\\n*   **Significant Market Growth:** The AI in healthcare market is experiencing explosive growth, indicating strong investor interest and increasing adoption.  The projected CAGR of 38.6% is...\\n==================================================\\n\\n## Executive Report: AI in Healthcare - Strategic Analysis and Recommendations\\n\\n**Date:** October 26, 2023\\n\\n**Prepared for:** Executive Leadership\\n\\n**1. Executive Summary**\\n\\nThis report analyzes the current landscape of Artificial Intelligence (AI) in healthcare, highlighting key benefits, risks, and strategic implications. The AI in healthcare market is experiencing significant growth, driven by advancements in diagnostics, drug discovery, and administrative automation. While adoption is increasing, concerns surrounding data privacy, algorithmic bias, and ethical considerations remain critical challenges. This report provides actionable recommendations for navigating these challenges and capitalizing on the opportunities presented by AI to improve healthcare delivery and outcomes.\\n\\n**2. Key Findings**\\n\\n*   **Significant Market Growth:** The AI in healthcare market is experiencing explosive growth, with a projected CAGR of 38.6%. This indicates strong investor interest and increasing adoption.\\n*   **Broad Application, Focused Impact:** AI applications span the entire healthcare spectrum (diagnostics, drug discovery, administration), but current impact is most pronounced in diagnostics, drug discovery (reducing time/cost), and administrative automation.\\n*   **Increasing, but Not Universal, Adoption:** Over half of healthcare organizations have implemented AI, but a substantial portion is still in the planning stages, indicating significant room for market expansion.\\n*   **Privacy and Bias are Major Concerns:** Data privacy and algorithmic bias are significant ethical and practical concerns that require careful consideration and mitigation strategies.\\n\\n**3. Analysis & Insights**\\n\\nThe rapid growth of AI in healthcare is fueled by its potential to address key challenges facing the industry, including rising costs, increasing demand for personalized medicine, and the need for more efficient workflows.  AI-powered diagnostic tools can enable earlier and more accurate disease detection, leading to improved patient outcomes and reduced healthcare costs.  AI's ability to analyze vast datasets accelerates drug discovery, reducing the time and cost associated with bringing new therapies to market.  Furthermore, AI can automate administrative tasks, freeing up healthcare professionals to focus on patient care.\\n\\nHowever, the successful implementation of AI in healthcare requires careful attention to ethical and practical considerations.  Data privacy is paramount, and robust security measures must be in place to protect patient data from unauthorized access and misuse.  Algorithmic bias can perpetuate and amplify existing health disparities, so it is crucial to ensure that AI models are trained on diverse and representative datasets and that their outputs are carefully monitored for bias.\\n\\n**Strategic Implications:**\\n\\n*   **Competitive Advantage:** Early adoption of AI can provide a significant competitive advantage for healthcare organizations.\\n*   **Operational Efficiency:** AI can streamline operations, reduce costs, and improve the quality of care.\\n*   **Innovation Driver:** AI can drive innovation in healthcare, leading to new therapies, diagnostic tools, and treatment approaches.\\n\\n**4. Recommendations**\\n\\nTo effectively leverage AI in healthcare and mitigate potential risks, the following recommendations are proposed:\\n\\n*   **Prioritize Data Privacy and Security:** Implement robust data governance policies and security measures to protect patient data and comply with relevant regulations (e.g., HIPAA).\\n*   **Address Algorithmic Bias:** Employ strategies to mitigate algorithmic bias, including using diverse datasets, monitoring model outputs for bias, and regularly auditing AI systems.\\n*   **Invest in Talent and Training:** Develop internal expertise in AI by hiring data scientists, machine learning engineers, and AI ethicists. Provide training to healthcare professionals on how to use and interpret AI-powered tools.\\n*   **Foster Collaboration:** Collaborate with AI vendors, research institutions, and other healthcare organizations to share best practices and accelerate the adoption of AI.\\n*   **Develop a Clear AI Strategy:** Define specific goals and objectives for AI implementation, and develop a roadmap for achieving those goals.\\n*   **Focus on Explainability and Transparency:**  Prioritize AI solutions that are transparent and explainable, allowing healthcare professionals to understand how decisions are made.\\n*   **Establish Ethical Guidelines:**  Develop clear ethical guidelines for the use of AI in healthcare, addressing issues such as patient autonomy, informed consent, and accountability.\\n\\n**5. Conclusion**\\n\\nAI holds immense potential to transform healthcare, but its successful implementation requires a strategic and ethical approach. By addressing the challenges related to data privacy, algorithmic bias, and ethical considerations, healthcare organizations can harness the power of AI to improve patient outcomes, reduce costs, and drive innovation.  The recommendations outlined in this report provide a framework for navigating the complexities of AI in healthcare and maximizing its benefits. Continued monitoring of the evolving AI landscape and proactive adaptation of strategies will be crucial for long-term success.\\n\\n==================================================\\nReport compiled by Multi-Agent AI System powered by Groq\\n\""
      ]
     },
     "execution_count": 72,
     "metadata": {},
     "output_type": "execute_result"
    }
   ],
   "source": [
    "response['final_report']"
   ]
  },
  {
   "cell_type": "markdown",
   "id": "a4593ded",
   "metadata": {},
   "source": [
    "## Now we'll try hierarchy  \n",
    "\n",
    "### We'll see if a task comes it'll be as such:\n",
    "\n",
    "### - CEO\n",
    "#### - Research Team Leader -> Data Researcher or Market Researcher\n",
    "#### - Writing Team Leader -> Technical Writer or Summary Writer"
   ]
  },
  {
   "cell_type": "code",
   "execution_count": null,
   "id": "a3d59b10",
   "metadata": {},
   "outputs": [],
   "source": []
  },
  {
   "cell_type": "code",
   "execution_count": null,
   "id": "fe85b063",
   "metadata": {},
   "outputs": [],
   "source": []
  },
  {
   "cell_type": "code",
   "execution_count": null,
   "id": "7868c5ed",
   "metadata": {},
   "outputs": [],
   "source": []
  },
  {
   "cell_type": "code",
   "execution_count": null,
   "id": "d4ad4563",
   "metadata": {},
   "outputs": [],
   "source": []
  },
  {
   "cell_type": "code",
   "execution_count": null,
   "id": "336e8d50",
   "metadata": {},
   "outputs": [],
   "source": []
  },
  {
   "cell_type": "code",
   "execution_count": null,
   "id": "3a3c4581",
   "metadata": {},
   "outputs": [],
   "source": []
  }
 ],
 "metadata": {
  "kernelspec": {
   "display_name": "lang",
   "language": "python",
   "name": "python3"
  },
  "language_info": {
   "codemirror_mode": {
    "name": "ipython",
    "version": 3
   },
   "file_extension": ".py",
   "mimetype": "text/x-python",
   "name": "python",
   "nbconvert_exporter": "python",
   "pygments_lexer": "ipython3",
   "version": "3.12.11"
  }
 },
 "nbformat": 4,
 "nbformat_minor": 5
}
